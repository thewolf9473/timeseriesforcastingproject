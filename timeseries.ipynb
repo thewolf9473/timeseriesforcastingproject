{
  "nbformat": 4,
  "nbformat_minor": 0,
  "metadata": {
    "colab": {
      "provenance": []
    },
    "kernelspec": {
      "name": "python3",
      "display_name": "Python 3"
    },
    "language_info": {
      "name": "python"
    }
  },
  "cells": [
    {
      "cell_type": "code",
      "execution_count": 2,
      "metadata": {
        "colab": {
          "base_uri": "https://localhost:8080/"
        },
        "id": "fklvanNxYcSn",
        "outputId": "60e4fb39-8251-4b22-8306-09b299dbaf55"
      },
      "outputs": [
        {
          "output_type": "stream",
          "name": "stderr",
          "text": [
            "/usr/local/lib/python3.7/dist-packages/openpyxl/worksheet/_reader.py:312: UserWarning: Unknown extension is not supported and will be removed\n",
            "  warn(msg)\n",
            "/usr/local/lib/python3.7/dist-packages/openpyxl/worksheet/_reader.py:312: UserWarning: Conditional Formatting extension is not supported and will be removed\n",
            "  warn(msg)\n"
          ]
        },
        {
          "output_type": "execute_result",
          "data": {
            "text/plain": [
              "Unnamed: 0     object\n",
              "year            int64\n",
              "Para-1        float64\n",
              "Para-2        float64\n",
              "Para-3        float64\n",
              "Para-4        float64\n",
              "Para-5          int64\n",
              "Para-6          int64\n",
              "Para-7          int64\n",
              "Para-8          int64\n",
              "Para-9        float64\n",
              "Para-10       float64\n",
              "Para-11       float64\n",
              "Para-12         int64\n",
              "Para-13       float64\n",
              "dtype: object"
            ]
          },
          "metadata": {},
          "execution_count": 2
        }
      ],
      "source": [
        "import pandas as pd\n",
        "import numpy as np\n",
        "import math\n",
        "df = pd.read_excel('./DATASET.xlsx')\n",
        "df.dtypes"
      ]
    },
    {
      "cell_type": "code",
      "source": [
        "import os\n",
        "path = './sections/'\n",
        "isExist = os.path.exists(path)\n",
        "if not isExist:\n",
        "  # Create a new directory because it does not exist \n",
        "  os.makedirs(path)"
      ],
      "metadata": {
        "id": "Z-la4bHRYk4t"
      },
      "execution_count": 3,
      "outputs": []
    },
    {
      "cell_type": "code",
      "source": [
        "df2 = pd.DataFrame()\n",
        "sec_no = \"\"\n",
        "i = 0\n",
        "new_df = pd.DataFrame()\n",
        "while i < len(df):\n",
        "    j = 0\n",
        "    if type(df.iloc[i][0])==str:\n",
        "        sec_no = df.iloc[i][0]\n",
        "        j+=1\n",
        "    j+=i\n",
        "    exist = False\n",
        "    while j < len(df) and type(df.iloc[j][0])!=str:\n",
        "        if df.iloc[j][1] == 10:\n",
        "            exist = True\n",
        "        j += 1\n",
        "    \n",
        "    if(exist):\n",
        "        df2 = df2.append(df.loc[i:j-1,:])\n",
        "        new_df = new_df.append(df.loc[i:j-1,:])\n",
        "        new_df.to_csv('./sections/'+sec_no+'.csv',index=False)\n",
        "        new_df = new_df.iloc[0:0]\n",
        "    i = j\n",
        "\n",
        "df2.reset_index(inplace=True,drop=True)"
      ],
      "metadata": {
        "id": "u-06LxAvY0bw"
      },
      "execution_count": 4,
      "outputs": []
    },
    {
      "cell_type": "code",
      "source": [
        "from xgboost import XGBRegressor\n",
        "import matplotlib.pyplot as plt\n",
        "from sklearn.metrics import mean_squared_error"
      ],
      "metadata": {
        "id": "co1eEJPWY24h"
      },
      "execution_count": 5,
      "outputs": []
    },
    {
      "cell_type": "code",
      "source": [
        "#df2.drop(columns=['Unnamed: 0'],inplace=True)\n",
        "df2.dropna(axis = 0, how ='any', thresh = None, subset = None, inplace=True)"
      ],
      "metadata": {
        "id": "A1ae-MyYY576"
      },
      "execution_count": 6,
      "outputs": []
    },
    {
      "cell_type": "code",
      "source": [
        "df2.isna().sum()"
      ],
      "metadata": {
        "colab": {
          "base_uri": "https://localhost:8080/"
        },
        "id": "Pi43h-1qY7SM",
        "outputId": "66d9ae14-f100-4ebe-ab6a-9376b1333f25"
      },
      "execution_count": 7,
      "outputs": [
        {
          "output_type": "execute_result",
          "data": {
            "text/plain": [
              "Unnamed: 0    0\n",
              "year          0\n",
              "Para-1        0\n",
              "Para-2        0\n",
              "Para-3        0\n",
              "Para-4        0\n",
              "Para-5        0\n",
              "Para-6        0\n",
              "Para-7        0\n",
              "Para-8        0\n",
              "Para-9        0\n",
              "Para-10       0\n",
              "Para-11       0\n",
              "Para-12       0\n",
              "Para-13       0\n",
              "dtype: int64"
            ]
          },
          "metadata": {},
          "execution_count": 7
        }
      ]
    },
    {
      "cell_type": "code",
      "source": [
        "import glob\n",
        "path = \"./sections/*.csv\"\n",
        "for fname in glob.glob(path):\n",
        "    tdf = pd.read_csv(fname)\n",
        "    tdf.drop(columns=['Unnamed: 0'],inplace=True)\n",
        "    tdf.dropna(axis = 0, how ='any', thresh = None, subset = None, inplace=True)\n",
        "    sec_no = fname.split('/')[2].split('.')[0]\n",
        "\n",
        "    rmse_df = pd.DataFrame()\n",
        "\n",
        "\n",
        "    for i in range(9,14):\n",
        "        folder_path = './rmse comparisons/'\n",
        "        isExist = os.path.exists(folder_path)\n",
        "        if not isExist:\n",
        "            os.makedirs(folder_path)\n",
        "\n",
        "        x = tdf.drop(columns=['Para-9', 'Para-10',\t'Para-11',\t'Para-12',\t'Para-13'], axis=1)\n",
        "        y = tdf['Para-'+str(i)]\n",
        "        x_train, x_test = x.iloc[:-1, :], x.iloc[-1:, :]\n",
        "        y_train, y_test = y.iloc[:-1], y.iloc[-1:]\n",
        "\n",
        "        model = XGBRegressor(booster='gblinear',objective='reg:squarederror',random_state=7,verbosity = 1)\n",
        "        model.fit(x_train, y_train)\n",
        "        predictions = model.predict(x_test)\n",
        "        rmse = np.round(math.sqrt(mean_squared_error(y_test, predictions)), 3)\n",
        "        actual = y_test.values\n",
        "        rmse_df.loc[0, 'Para-'+str(i)] = actual[0]\n",
        "        rmse_df.loc[1, 'Para-'+str(i)] = np.round(predictions[0], 3)\n",
        "        rmse_df.loc[2, 'Para-'+str(i)] = rmse\n",
        "    \n",
        "    rmse_df.to_csv(folder_path+'/'+sec_no+'.csv', index=False)"
      ],
      "metadata": {
        "id": "rOGWHu_UY8bD"
      },
      "execution_count": 26,
      "outputs": []
    },
    {
      "cell_type": "code",
      "source": [
        "rmse_collection = []\n",
        "\n",
        "folder_path = './graphs/'\n",
        "isExist = os.path.exists(folder_path)\n",
        "if not isExist:\n",
        "  os.makedirs(folder_path)\n",
        "\n",
        "path = \"./rmse comparisons/*.csv\"\n",
        "for fname in glob.glob(path):\n",
        "  rmse_df = pd.read_csv(fname)\n",
        "  sec_no = fname.split('/')[2].split('.')[0]\n",
        "\n",
        "  mean_rmse = np.round(rmse_df.iloc[2, :].mean(axis=0), 3)\n",
        "  rmse_collection.append(mean_rmse)\n",
        "  line_1 = rmse_df.iloc[0, :]\n",
        "  line_2 = rmse_df.iloc[1, :]\n",
        "  fig, ax = plt.subplots()\n",
        "  ax.plot(line_1, color = 'green', label = 'Actual Data')\n",
        "  ax.plot(line_2, color = 'red', label = 'Predicted Data')\n",
        "  plt.title(\"RMSE Graph: \"+str(mean_rmse))\n",
        "  ax.legend()\n",
        "  plt.savefig(\"./graphs/\"+str(sec_no)+\".png\")\n",
        "  plt.close()"
      ],
      "metadata": {
        "id": "Du9gjYMaZAM2"
      },
      "execution_count": 27,
      "outputs": []
    },
    {
      "cell_type": "code",
      "source": [
        "f_rmse = sum(rmse_collection)/len(rmse_collection)\n",
        "print(\"RMSE: \", np.round(f_rmse, 3))"
      ],
      "metadata": {
        "colab": {
          "base_uri": "https://localhost:8080/"
        },
        "id": "7o93a17lZRv0",
        "outputId": "a9fb9fdf-fb8a-4155-9a71-d45bb83832d0"
      },
      "execution_count": 28,
      "outputs": [
        {
          "output_type": "stream",
          "name": "stdout",
          "text": [
            "RMSE:  15.375\n"
          ]
        }
      ]
    },
    {
      "cell_type": "code",
      "source": [],
      "metadata": {
        "id": "isDUanxKaaZG"
      },
      "execution_count": 28,
      "outputs": []
    }
  ]
}